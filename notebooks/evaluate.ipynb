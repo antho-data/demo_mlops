{
 "cells": [
  {
   "cell_type": "code",
   "execution_count": 6,
   "metadata": {},
   "outputs": [
    {
     "name": "stdout",
     "output_type": "stream",
     "text": [
      "Namespace(weights=['../model_params/best_weights_cont.pt'], source='testimages', img_size=640, conf_thres=0.5, iou_thres=0.45, device='', view_img=False, save_txt=False, save_conf=False, nosave=False, classes=None, agnostic_nms=False, augment=False, update=False, project='runs/detect', name='exp', exist_ok=False, no_trace=False)\n",
      "Fusing layers... \n",
      "RepConv.fuse_repvgg_block\n",
      "RepConv.fuse_repvgg_block\n",
      "RepConv.fuse_repvgg_block\n",
      "IDetect.fuse\n",
      " Convert model to Traced-model... \n",
      " traced_script_module saved! \n",
      " model is traced! \n",
      "\n",
      "1 json, Done. (2577.1ms) Inference, (5.7ms) NMS\n",
      " The image with the result is saved in: runs\\detect\\exp3\\IMG_20220322_100910.jpg\n",
      "1 json, Done. (2462.8ms) Inference, (3.0ms) NMS\n",
      " The image with the result is saved in: runs\\detect\\exp3\\IMG_20220322_100928.jpg\n",
      "1 json, Done. (2716.5ms) Inference, (2.5ms) NMS\n",
      " The image with the result is saved in: runs\\detect\\exp3\\IMG_20220322_102618.jpg\n",
      "1 json, Done. (2501.6ms) Inference, (2.5ms) NMS\n",
      " The image with the result is saved in: runs\\detect\\exp3\\IMG_20220322_102641.jpg\n",
      "Done. (2333.1ms) Inference, (1.0ms) NMS\n",
      " The image with the result is saved in: runs\\detect\\exp3\\IMG_20220322_102738.jpg\n",
      "4 jsons, Done. (3007.5ms) Inference, (2.0ms) NMS\n",
      " The image with the result is saved in: runs\\detect\\exp3\\IMG_20220322_102851.jpg\n",
      "1 json, Done. (2490.3ms) Inference, (2.0ms) NMS\n",
      " The image with the result is saved in: runs\\detect\\exp3\\IMG_20220322_102906.jpg\n",
      "1 json, Done. (3060.5ms) Inference, (3.0ms) NMS\n",
      " The image with the result is saved in: runs\\detect\\exp3\\IMG_20220322_103445.jpg\n",
      "1 json, Done. (2968.0ms) Inference, (3.0ms) NMS\n",
      " The image with the result is saved in: runs\\detect\\exp3\\IMG_20220322_103645.jpg\n",
      "Done. (3882.8ms) Inference, (0.0ms) NMS\n",
      " The image with the result is saved in: runs\\detect\\exp3\\IMG_20220322_104326.jpg\n",
      "Done. (1885.5ms) Inference, (1.0ms) NMS\n",
      " The image with the result is saved in: runs\\detect\\exp3\\IMG_20220322_104444.jpg\n",
      "Done. (1615.7ms) Inference, (0.0ms) NMS\n",
      " The image with the result is saved in: runs\\detect\\exp3\\IMG_20220322_104455.jpg\n",
      "Done. (1952.9ms) Inference, (0.0ms) NMS\n",
      " The image with the result is saved in: runs\\detect\\exp3\\IMG_20220322_104550.jpg\n",
      "Done. (2019.9ms) Inference, (0.0ms) NMS\n",
      " The image with the result is saved in: runs\\detect\\exp3\\IMG_20220322_105123.jpg\n",
      "Done. (1920.8ms) Inference, (0.0ms) NMS\n",
      " The image with the result is saved in: runs\\detect\\exp3\\IMG_20220322_105243.jpg\n",
      "1 json, Done. (1833.2ms) Inference, (0.0ms) NMS\n",
      " The image with the result is saved in: runs\\detect\\exp3\\IMG_20220322_105513.jpg\n",
      "1 json, Done. (1431.0ms) Inference, (2.0ms) NMS\n",
      " The image with the result is saved in: runs\\detect\\exp3\\IMG_20220322_105644.jpg\n",
      "1 json, Done. (1371.4ms) Inference, (0.0ms) NMS\n",
      " The image with the result is saved in: runs\\detect\\exp3\\IMG_20220322_105712.jpg\n",
      "1 json, Done. (1546.9ms) Inference, (2.0ms) NMS\n",
      " The image with the result is saved in: runs\\detect\\exp3\\IMG_20220322_110007.jpg\n",
      "Done. (1481.3ms) Inference, (0.0ms) NMS\n",
      " The image with the result is saved in: runs\\detect\\exp3\\IMG_20220322_110512.jpg\n",
      "Done. (1466.8ms) Inference, (0.0ms) NMS"
     ]
    },
    {
     "name": "stderr",
     "output_type": "stream",
     "text": [
      "YOLOR  4741639 torch 1.12.1+cpu CPU\n",
      "\n",
      "c:\\Users\\nhenr\\anaconda3\\envs\\yolov7\\lib\\site-packages\\torch\\functional.py:478: UserWarning: torch.meshgrid: in an upcoming release, it will be required to pass the indexing argument. (Triggered internally at  ..\\aten\\src\\ATen\\native\\TensorShape.cpp:2895.)\n",
      "  return _VF.meshgrid(tensors, **kwargs)  # type: ignore[attr-defined]\n",
      "Model Summary: 314 layers, 36481772 parameters, 6194944 gradients, 103.2 GFLOPS\n"
     ]
    },
    {
     "name": "stdout",
     "output_type": "stream",
     "text": [
      "\n",
      " The image with the result is saved in: runs\\detect\\exp3\\IMG_20220322_110612.jpg\n",
      "1 json, Done. (1828.2ms) Inference, (0.0ms) NMS\n",
      " The image with the result is saved in: runs\\detect\\exp3\\IMG_20220322_110635.jpg\n",
      "Done. (49.413s)\n"
     ]
    }
   ],
   "source": [
    "!python ../yolov7/detect.py --weights ../model_params/best_weights_cont.pt --conf 0.5 --source testimages"
   ]
  },
  {
   "cell_type": "code",
   "execution_count": null,
   "id": "b49019eb",
   "metadata": {},
   "outputs": [],
   "source": []
  }
 ],
 "metadata": {
  "kernelspec": {
   "display_name": "Python 3.10.4 ('yolov7')",
   "language": "python",
   "name": "python3"
  },
  "language_info": {
   "codemirror_mode": {
    "name": "ipython",
    "version": 3
   },
   "file_extension": ".py",
   "mimetype": "text/x-python",
   "name": "python",
   "nbconvert_exporter": "python",
   "pygments_lexer": "ipython3",
   "version": "3.10.4"
  },
  "vscode": {
   "interpreter": {
    "hash": "46ce13f22c7c2b6812b71e09d29bff645f4679767ddc9978939f691aaecf0b9d"
   }
  }
 },
 "nbformat": 4,
 "nbformat_minor": 5
}
